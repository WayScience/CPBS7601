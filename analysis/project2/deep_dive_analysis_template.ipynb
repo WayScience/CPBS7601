{
  "cells": [
    {
      "cell_type": "markdown",
      "metadata": {},
      "source": [
        "# Deep-Dive Scientific Analysis Template\n",
        "\n",
        "This notebook is a step-by-step, **research-ready** template for performing a deep dive analysis on a dataset.\n",
        "\n",
        "It emphasizes:\n",
        "- Reproducibility (seed control, environment capture, deterministic ops)\n",
        "- Exploratory data analysis (EDA) and data quality checks\n",
        "- Feature engineering and leakage-aware modeling\n",
        "- Robust validation (cross-validation, bootstrap CIs)\n",
        "- Explainability (permutation importance, partial dependence)\n",
        "- Statistical inference (hypothesis tests, effect sizes)\n",
        "- Artifact capture (figures, tables, model, and environment)\n",
        "\n",
        "> Tip: Duplicate this notebook per project and keep it under version control (Git).\n"
      ]
    },
    {
      "cell_type": "markdown",
      "metadata": {},
      "source": [
        "## 0. Setup & Reproducibility\n",
        "\n",
        "Configure libraries, paths, and random seeds. Decide whether to load a real dataset\n",
        "or synthesize one for demonstration/reproducibility.\n"
      ]
    },
    {
      "cell_type": "code",
      "execution_count": 1,
      "metadata": {},
      "outputs": [
        {
          "name": "stdout",
          "output_type": "stream",
          "text": [
            "Project directory: /Users/buntend/Documents/work/CPBS7601/analysis/project2\n",
            "Artifacts directory: /Users/buntend/Documents/work/CPBS7601/analysis/project2/artifacts\n"
          ]
        }
      ],
      "source": [
        "from __future__ import annotations\n",
        "import os, sys, math, json, random, pathlib\n",
        "from pathlib import Path\n",
        "from dataclasses import dataclass\n",
        "import numpy as np\n",
        "import pandas as pd\n",
        "import matplotlib.pyplot as plt  # REQUIRED: use matplotlib (no seaborn)\n",
        "from typing import Tuple\n",
        "\n",
        "# Reproducibility\n",
        "SEED = 42\n",
        "random.seed(SEED)\n",
        "np.random.seed(SEED)\n",
        "\n",
        "# Paths\n",
        "PROJECT_DIR = Path.cwd()\n",
        "ARTIFACTS = PROJECT_DIR / \"artifacts\"\n",
        "ARTIFACTS.mkdir(parents=True, exist_ok=True)\n",
        "\n",
        "print(f\"Project directory: {PROJECT_DIR}\")\n",
        "print(f\"Artifacts directory: {ARTIFACTS}\")\n"
      ]
    },
    {
      "cell_type": "markdown",
      "metadata": {},
      "source": [
        "## 1. Data Loading\n",
        "\n",
        "Edit `DATA_PATH` to point at your CSV/Parquet file. If `DATA_PATH` is `None`,\n",
        "we'll synthesize a toy dataset (binary outcome + mixed features) so all steps run.\n"
      ]
    },
    {
      "cell_type": "code",
      "execution_count": 2,
      "metadata": {},
      "outputs": [
        {
          "data": {
            "text/html": [
              "<div>\n",
              "<style scoped>\n",
              "    .dataframe tbody tr th:only-of-type {\n",
              "        vertical-align: middle;\n",
              "    }\n",
              "\n",
              "    .dataframe tbody tr th {\n",
              "        vertical-align: top;\n",
              "    }\n",
              "\n",
              "    .dataframe thead th {\n",
              "        text-align: right;\n",
              "    }\n",
              "</style>\n",
              "<table border=\"1\" class=\"dataframe\">\n",
              "  <thead>\n",
              "    <tr style=\"text-align: right;\">\n",
              "      <th></th>\n",
              "      <th>feature_1</th>\n",
              "      <th>feature_2</th>\n",
              "      <th>feature_3_binary</th>\n",
              "      <th>feature_4</th>\n",
              "      <th>category</th>\n",
              "      <th>target</th>\n",
              "    </tr>\n",
              "  </thead>\n",
              "  <tbody>\n",
              "    <tr>\n",
              "      <th>0</th>\n",
              "      <td>0.496714</td>\n",
              "      <td>5.250449</td>\n",
              "      <td>0</td>\n",
              "      <td>3.986496</td>\n",
              "      <td>A</td>\n",
              "      <td>1</td>\n",
              "    </tr>\n",
              "    <tr>\n",
              "      <th>1</th>\n",
              "      <td>-0.138264</td>\n",
              "      <td>4.141189</td>\n",
              "      <td>0</td>\n",
              "      <td>0.710437</td>\n",
              "      <td>A</td>\n",
              "      <td>0</td>\n",
              "    </tr>\n",
              "    <tr>\n",
              "      <th>2</th>\n",
              "      <td>0.647689</td>\n",
              "      <td>5.244595</td>\n",
              "      <td>0</td>\n",
              "      <td>0.128371</td>\n",
              "      <td>A</td>\n",
              "      <td>0</td>\n",
              "    </tr>\n",
              "    <tr>\n",
              "      <th>3</th>\n",
              "      <td>1.523030</td>\n",
              "      <td>6.086596</td>\n",
              "      <td>1</td>\n",
              "      <td>0.404225</td>\n",
              "      <td>A</td>\n",
              "      <td>0</td>\n",
              "    </tr>\n",
              "    <tr>\n",
              "      <th>4</th>\n",
              "      <td>-0.234153</td>\n",
              "      <td>5.097720</td>\n",
              "      <td>0</td>\n",
              "      <td>-1.309123</td>\n",
              "      <td>B</td>\n",
              "      <td>0</td>\n",
              "    </tr>\n",
              "  </tbody>\n",
              "</table>\n",
              "</div>"
            ],
            "text/plain": [
              "   feature_1  feature_2  feature_3_binary  feature_4 category  target\n",
              "0   0.496714   5.250449                 0   3.986496        A       1\n",
              "1  -0.138264   4.141189                 0   0.710437        A       0\n",
              "2   0.647689   5.244595                 0   0.128371        A       0\n",
              "3   1.523030   6.086596                 1   0.404225        A       0\n",
              "4  -0.234153   5.097720                 0  -1.309123        B       0"
            ]
          },
          "execution_count": 2,
          "metadata": {},
          "output_type": "execute_result"
        }
      ],
      "source": [
        "# Set your dataset path here (CSV). Example: Path('data/mydata.csv')\n",
        "DATA_PATH = None  # Replace with a Path(\"data/your_file.csv\") or keep None to synthesize.\n",
        "\n",
        "if DATA_PATH is not None and Path(DATA_PATH).exists():\n",
        "    df = pd.read_csv(DATA_PATH)\n",
        "else:\n",
        "    # Synthesize a realistic tabular dataset\n",
        "    n = 1200\n",
        "    X1 = np.random.normal(0, 1, n)\n",
        "    X2 = np.random.normal(5, 2, n)\n",
        "    X3 = np.random.binomial(1, 0.3, n)\n",
        "    X4 = np.random.uniform(-2, 4, n)\n",
        "    # Nonlinear outcome + noise for binary classification\n",
        "    logits = 0.5*X1 - 0.3*X2 + 0.8*X3 + 0.1*(X4**2) - 0.15*X1*X4\n",
        "    p = 1 / (1 + np.exp(-logits))\n",
        "    y = (np.random.rand(n) < p).astype(int)\n",
        "    # Inject missingness and a categorical variable\n",
        "    cat = np.random.choice([\"A\",\"B\",\"C\"], size=n, p=[0.5,0.3,0.2])\n",
        "    df = pd.DataFrame({\n",
        "        'feature_1': X1,\n",
        "        'feature_2': X2,\n",
        "        'feature_3_binary': X3,\n",
        "        'feature_4': X4,\n",
        "        'category': cat,\n",
        "        'target': y,\n",
        "    })\n",
        "    # Random missing values\n",
        "    miss_idx = np.random.choice(df.index, size=80, replace=False)\n",
        "    df.loc[miss_idx, 'feature_2'] = np.nan\n",
        "    df.loc[np.random.choice(df.index, 60, replace=False), 'category'] = np.nan\n",
        "\n",
        "df.head()\n"
      ]
    },
    {
      "cell_type": "markdown",
      "metadata": {},
      "source": [
        "## 2. Exploratory Data Analysis (EDA)\n",
        "\n",
        "Check basic structure, missingness, distributions, and correlations.\n"
      ]
    },
    {
      "cell_type": "code",
      "execution_count": 3,
      "metadata": {},
      "outputs": [
        {
          "data": {
            "text/plain": [
              "(1200, 6)"
            ]
          },
          "metadata": {},
          "output_type": "display_data"
        },
        {
          "data": {
            "text/plain": [
              "feature_1           float64\n",
              "feature_2           float64\n",
              "feature_3_binary      int64\n",
              "feature_4           float64\n",
              "category             object\n",
              "target                int64\n",
              "dtype: object"
            ]
          },
          "metadata": {},
          "output_type": "display_data"
        },
        {
          "data": {
            "text/html": [
              "<div>\n",
              "<style scoped>\n",
              "    .dataframe tbody tr th:only-of-type {\n",
              "        vertical-align: middle;\n",
              "    }\n",
              "\n",
              "    .dataframe tbody tr th {\n",
              "        vertical-align: top;\n",
              "    }\n",
              "\n",
              "    .dataframe thead th {\n",
              "        text-align: right;\n",
              "    }\n",
              "</style>\n",
              "<table border=\"1\" class=\"dataframe\">\n",
              "  <thead>\n",
              "    <tr style=\"text-align: right;\">\n",
              "      <th></th>\n",
              "      <th>feature_1</th>\n",
              "      <th>feature_2</th>\n",
              "      <th>feature_3_binary</th>\n",
              "      <th>feature_4</th>\n",
              "      <th>category</th>\n",
              "      <th>target</th>\n",
              "    </tr>\n",
              "  </thead>\n",
              "  <tbody>\n",
              "    <tr>\n",
              "      <th>count</th>\n",
              "      <td>1200.000000</td>\n",
              "      <td>1120.000000</td>\n",
              "      <td>1200.000000</td>\n",
              "      <td>1200.000000</td>\n",
              "      <td>1140</td>\n",
              "      <td>1200.000000</td>\n",
              "    </tr>\n",
              "    <tr>\n",
              "      <th>unique</th>\n",
              "      <td>NaN</td>\n",
              "      <td>NaN</td>\n",
              "      <td>NaN</td>\n",
              "      <td>NaN</td>\n",
              "      <td>3</td>\n",
              "      <td>NaN</td>\n",
              "    </tr>\n",
              "    <tr>\n",
              "      <th>top</th>\n",
              "      <td>NaN</td>\n",
              "      <td>NaN</td>\n",
              "      <td>NaN</td>\n",
              "      <td>NaN</td>\n",
              "      <td>A</td>\n",
              "      <td>NaN</td>\n",
              "    </tr>\n",
              "    <tr>\n",
              "      <th>freq</th>\n",
              "      <td>NaN</td>\n",
              "      <td>NaN</td>\n",
              "      <td>NaN</td>\n",
              "      <td>NaN</td>\n",
              "      <td>601</td>\n",
              "      <td>NaN</td>\n",
              "    </tr>\n",
              "    <tr>\n",
              "      <th>mean</th>\n",
              "      <td>0.038382</td>\n",
              "      <td>5.062799</td>\n",
              "      <td>0.277500</td>\n",
              "      <td>0.968721</td>\n",
              "      <td>NaN</td>\n",
              "      <td>0.322500</td>\n",
              "    </tr>\n",
              "    <tr>\n",
              "      <th>std</th>\n",
              "      <td>0.988395</td>\n",
              "      <td>1.936377</td>\n",
              "      <td>0.447952</td>\n",
              "      <td>1.724748</td>\n",
              "      <td>NaN</td>\n",
              "      <td>0.467628</td>\n",
              "    </tr>\n",
              "    <tr>\n",
              "      <th>min</th>\n",
              "      <td>-3.241267</td>\n",
              "      <td>-1.039024</td>\n",
              "      <td>0.000000</td>\n",
              "      <td>-1.998638</td>\n",
              "      <td>NaN</td>\n",
              "      <td>0.000000</td>\n",
              "    </tr>\n",
              "    <tr>\n",
              "      <th>25%</th>\n",
              "      <td>-0.625005</td>\n",
              "      <td>3.771715</td>\n",
              "      <td>0.000000</td>\n",
              "      <td>-0.518389</td>\n",
              "      <td>NaN</td>\n",
              "      <td>0.000000</td>\n",
              "    </tr>\n",
              "    <tr>\n",
              "      <th>50%</th>\n",
              "      <td>0.048303</td>\n",
              "      <td>5.024626</td>\n",
              "      <td>0.000000</td>\n",
              "      <td>0.899579</td>\n",
              "      <td>NaN</td>\n",
              "      <td>0.000000</td>\n",
              "    </tr>\n",
              "    <tr>\n",
              "      <th>75%</th>\n",
              "      <td>0.676014</td>\n",
              "      <td>6.327284</td>\n",
              "      <td>1.000000</td>\n",
              "      <td>2.453870</td>\n",
              "      <td>NaN</td>\n",
              "      <td>1.000000</td>\n",
              "    </tr>\n",
              "    <tr>\n",
              "      <th>max</th>\n",
              "      <td>3.852731</td>\n",
              "      <td>11.386215</td>\n",
              "      <td>1.000000</td>\n",
              "      <td>3.992758</td>\n",
              "      <td>NaN</td>\n",
              "      <td>1.000000</td>\n",
              "    </tr>\n",
              "  </tbody>\n",
              "</table>\n",
              "</div>"
            ],
            "text/plain": [
              "          feature_1    feature_2  feature_3_binary    feature_4 category  \\\n",
              "count   1200.000000  1120.000000       1200.000000  1200.000000     1140   \n",
              "unique          NaN          NaN               NaN          NaN        3   \n",
              "top             NaN          NaN               NaN          NaN        A   \n",
              "freq            NaN          NaN               NaN          NaN      601   \n",
              "mean       0.038382     5.062799          0.277500     0.968721      NaN   \n",
              "std        0.988395     1.936377          0.447952     1.724748      NaN   \n",
              "min       -3.241267    -1.039024          0.000000    -1.998638      NaN   \n",
              "25%       -0.625005     3.771715          0.000000    -0.518389      NaN   \n",
              "50%        0.048303     5.024626          0.000000     0.899579      NaN   \n",
              "75%        0.676014     6.327284          1.000000     2.453870      NaN   \n",
              "max        3.852731    11.386215          1.000000     3.992758      NaN   \n",
              "\n",
              "             target  \n",
              "count   1200.000000  \n",
              "unique          NaN  \n",
              "top             NaN  \n",
              "freq            NaN  \n",
              "mean       0.322500  \n",
              "std        0.467628  \n",
              "min        0.000000  \n",
              "25%        0.000000  \n",
              "50%        0.000000  \n",
              "75%        1.000000  \n",
              "max        1.000000  "
            ]
          },
          "metadata": {},
          "output_type": "display_data"
        },
        {
          "data": {
            "text/plain": [
              "feature_2           0.066667\n",
              "category            0.050000\n",
              "feature_1           0.000000\n",
              "feature_3_binary    0.000000\n",
              "feature_4           0.000000\n",
              "target              0.000000\n",
              "dtype: float64"
            ]
          },
          "metadata": {},
          "output_type": "display_data"
        },
        {
          "data": {
            "image/png": "[encoded data removed]",
            "text/plain": [
              "<Figure size 640x480 with 1 Axes>"
            ]
          },
          "metadata": {},
          "output_type": "display_data"
        },
        {
          "data": {
            "image/png": "[encoded data removed]",
            "text/plain": [
              "<Figure size 640x480 with 1 Axes>"
            ]
          },
          "metadata": {},
          "output_type": "display_data"
        },
        {
          "data": {
            "image/png": "[encoded data removed]",
            "text/plain": [
              "<Figure size 640x480 with 1 Axes>"
            ]
          },
          "metadata": {},
          "output_type": "display_data"
        },
        {
          "data": {
            "image/png": "[encoded data removed]",
            "text/plain": [
              "<Figure size 640x480 with 1 Axes>"
            ]
          },
          "metadata": {},
          "output_type": "display_data"
        },
        {
          "data": {
            "image/png": "[encoded data removed]",
            "text/plain": [
              "<Figure size 640x480 with 1 Axes>"
            ]
          },
          "metadata": {},
          "output_type": "display_data"
        },
        {
          "data": {
            "image/png": "[encoded data removed]",
            "text/plain": [
              "<Figure size 640x480 with 1 Axes>"
            ]
          },
          "metadata": {},
          "output_type": "display_data"
        },
        {
          "data": {
            "image/png": "[encoded data removed]",
            "text/plain": [
              "<Figure size 600x500 with 2 Axes>"
            ]
          },
          "metadata": {},
          "output_type": "display_data"
        }
      ],
      "source": [
        "display(df.shape)\n",
        "display(df.dtypes)\n",
        "display(df.describe(include='all'))\n",
        "\n",
        "# Missingness by column\n",
        "missing = df.isna().mean().sort_values(ascending=False)\n",
        "display(missing)\n",
        "\n",
        "# Simple missingness heatmap (binary mask)\n",
        "plt.figure()\n",
        "plt.imshow(df.isna(), aspect='auto', interpolation='nearest')\n",
        "plt.title('Missingness Heatmap (1=NaN)')\n",
        "plt.xlabel('Columns')\n",
        "plt.ylabel('Rows')\n",
        "plt.tight_layout()\n",
        "plt.savefig(ARTIFACTS / 'missingness_heatmap.png', dpi=150)\n",
        "plt.show()\n",
        "\n",
        "# Histograms for numeric columns\n",
        "num_cols = df.select_dtypes(include=[np.number]).columns.tolist()\n",
        "for col in num_cols:\n",
        "    plt.figure()\n",
        "    df[col].hist(bins=30)\n",
        "    plt.title(f'Distribution: {col}')\n",
        "    plt.tight_layout()\n",
        "    plt.savefig(ARTIFACTS / f'hist_{col}.png', dpi=150)\n",
        "    plt.show()\n",
        "\n",
        "# Correlation heatmap (numeric only)\n",
        "corr = df[num_cols].corr(numeric_only=True)\n",
        "plt.figure(figsize=(6,5))\n",
        "plt.imshow(corr, interpolation='nearest')\n",
        "plt.xticks(range(len(num_cols)), num_cols, rotation=90)\n",
        "plt.yticks(range(len(num_cols)), num_cols)\n",
        "plt.title('Correlation (numeric)')\n",
        "plt.colorbar()\n",
        "plt.tight_layout()\n",
        "plt.savefig(ARTIFACTS / 'correlation_heatmap.png', dpi=150)\n",
        "plt.show()\n"
      ]
    },
    {
      "cell_type": "markdown",
      "metadata": {},
      "source": [
        "## 3. Cleaning & Preprocessing\n",
        "\n",
        "- Separate features/target\n",
        "- Split train/test early to avoid leakage\n",
        "- Impute missing values\n",
        "- One-hot encode categoricals\n",
        "- Standardize numeric features (as needed)\n"
      ]
    },
    {
      "cell_type": "code",
      "execution_count": 4,
      "metadata": {},
      "outputs": [
        {
          "data": {
            "text/plain": [
              "(['feature_1', 'feature_2', 'feature_3_binary', 'feature_4'], ['category'])"
            ]
          },
          "execution_count": 4,
          "metadata": {},
          "output_type": "execute_result"
        }
      ],
      "source": [
        "from sklearn.model_selection import train_test_split\n",
        "from sklearn.compose import ColumnTransformer\n",
        "from sklearn.pipeline import Pipeline\n",
        "from sklearn.impute import SimpleImputer\n",
        "from sklearn.preprocessing import OneHotEncoder, StandardScaler\n",
        "\n",
        "TARGET = 'target' if 'target' in df.columns else df.columns[-1]\n",
        "X = df.drop(columns=[TARGET])\n",
        "y = df[TARGET].astype(int) if df[TARGET].dropna().isin([0,1]).all() else df[TARGET]\n",
        "\n",
        "X_train, X_test, y_train, y_test = train_test_split(\n",
        "    X, y, test_size=0.2, stratify=y if set(pd.unique(y)) <= {0,1} else None,\n",
        "    random_state=SEED\n",
        ")\n",
        "\n",
        "num_features = X_train.select_dtypes(include=[np.number]).columns.tolist()\n",
        "cat_features = X_train.select_dtypes(exclude=[np.number]).columns.tolist()\n",
        "\n",
        "numeric_transformer = Pipeline(steps=[\n",
        "    (\"imputer\", SimpleImputer(strategy=\"median\")),\n",
        "    (\"scaler\", StandardScaler()),\n",
        "])\n",
        "\n",
        "categorical_transformer = Pipeline(steps=[\n",
        "    (\"imputer\", SimpleImputer(strategy=\"most_frequent\")),\n",
        "    (\"onehot\", OneHotEncoder(handle_unknown=\"ignore\")),\n",
        "])\n",
        "\n",
        "preprocessor = ColumnTransformer(\n",
        "    transformers=[\n",
        "        (\"num\", numeric_transformer, num_features),\n",
        "        (\"cat\", categorical_transformer, cat_features),\n",
        "    ]\n",
        ")\n",
        "\n",
        "num_features, cat_features\n"
      ]
    },
    {
      "cell_type": "markdown",
      "metadata": {},
      "source": [
        "## 4. Modeling (Leakage-Aware Pipelines)\n",
        "\n",
        "Build pipelines that include the preprocessor **inside** the cross-validation to avoid leakage.\n",
        "Try a few baseline models and evaluate with robust metrics.\n"
      ]
    },
    {
      "cell_type": "code",
      "execution_count": 5,
      "metadata": {},
      "outputs": [
        {
          "data": {
            "text/html": [
              "<div>\n",
              "<style scoped>\n",
              "    .dataframe tbody tr th:only-of-type {\n",
              "        vertical-align: middle;\n",
              "    }\n",
              "\n",
              "    .dataframe tbody tr th {\n",
              "        vertical-align: top;\n",
              "    }\n",
              "\n",
              "    .dataframe thead th {\n",
              "        text-align: right;\n",
              "    }\n",
              "</style>\n",
              "<table border=\"1\" class=\"dataframe\">\n",
              "  <thead>\n",
              "    <tr style=\"text-align: right;\">\n",
              "      <th></th>\n",
              "      <th>log_reg</th>\n",
              "      <th>rf</th>\n",
              "    </tr>\n",
              "  </thead>\n",
              "  <tbody>\n",
              "    <tr>\n",
              "      <th>cv_scores</th>\n",
              "      <td>[0.6905707196029777, 0.6787841191066998, 0.639...</td>\n",
              "      <td>[0.6669975186104218, 0.6538461538461539, 0.668...</td>\n",
              "    </tr>\n",
              "    <tr>\n",
              "      <th>mean</th>\n",
              "      <td>0.6866</td>\n",
              "      <td>0.654888</td>\n",
              "    </tr>\n",
              "    <tr>\n",
              "      <th>std</th>\n",
              "      <td>0.033589</td>\n",
              "      <td>0.011282</td>\n",
              "    </tr>\n",
              "  </tbody>\n",
              "</table>\n",
              "</div>"
            ],
            "text/plain": [
              "                                                     log_reg  \\\n",
              "cv_scores  [0.6905707196029777, 0.6787841191066998, 0.639...   \n",
              "mean                                                  0.6866   \n",
              "std                                                 0.033589   \n",
              "\n",
              "                                                          rf  \n",
              "cv_scores  [0.6669975186104218, 0.6538461538461539, 0.668...  \n",
              "mean                                                0.654888  \n",
              "std                                                 0.011282  "
            ]
          },
          "execution_count": 5,
          "metadata": {},
          "output_type": "execute_result"
        }
      ],
      "source": [
        "from sklearn.linear_model import LogisticRegression\n",
        "from sklearn.ensemble import RandomForestClassifier\n",
        "from sklearn.metrics import roc_auc_score, accuracy_score, f1_score\n",
        "from sklearn.model_selection import cross_val_score, StratifiedKFold\n",
        "\n",
        "is_binary = set(pd.unique(y_train.dropna())) <= {0,1}\n",
        "\n",
        "models = {\n",
        "    \"log_reg\": LogisticRegression(max_iter=200, n_jobs=None, random_state=SEED),\n",
        "    \"rf\": RandomForestClassifier(n_estimators=300, random_state=SEED),\n",
        "}\n",
        "\n",
        "cv = StratifiedKFold(n_splits=5, shuffle=True, random_state=SEED) if is_binary else None\n",
        "scoring = 'roc_auc' if is_binary else 'r2'\n",
        "\n",
        "results = {}\n",
        "for name, model in models.items():\n",
        "    pipe = Pipeline(steps=[(\"preprocess\", preprocessor), (\"model\", model)])\n",
        "    if cv is not None:\n",
        "        scores = cross_val_score(pipe, X_train, y_train, cv=cv, scoring=scoring)\n",
        "        results[name] = {\n",
        "            \"cv_scores\": scores,\n",
        "            \"mean\": np.mean(scores),\n",
        "            \"std\": np.std(scores),\n",
        "        }\n",
        "    else:\n",
        "        # Fallback (e.g., regression case) using simple split\n",
        "        pipe.fit(X_train, y_train)\n",
        "        pred = pipe.predict(X_test)\n",
        "        results[name] = {\"test_score\": float(np.corrcoef(pred, y_test)[0,1])}\n",
        "\n",
        "pd.DataFrame(results)\n"
      ]
    },
    {
      "cell_type": "markdown",
      "metadata": {},
      "source": [
        "## 5. Final Fit & Evaluation\n",
        "\n",
        "Choose the best model (by mean CV score), fit on the full training set, and evaluate\n",
        "on the held-out test set.\n"
      ]
    },
    {
      "cell_type": "code",
      "execution_count": 6,
      "metadata": {},
      "outputs": [
        {
          "name": "stdout",
          "output_type": "stream",
          "text": [
            "Test ROC-AUC: 0.6540514700023903\n",
            "Test Accuracy: 0.6791666666666667\n",
            "Test F1: 0.2376237623762376\n"
          ]
        }
      ],
      "source": [
        "# Pick best by mean CV score\n",
        "best_name = max(\n",
        "    (k for k in results if 'mean' in results[k]),\n",
        "    key=lambda k: results[k]['mean']\n",
        ")\n",
        "best_model = models[best_name]\n",
        "final_pipe = Pipeline(steps=[(\"preprocess\", preprocessor), (\"model\", best_model)])\n",
        "final_pipe.fit(X_train, y_train)\n",
        "\n",
        "if is_binary:\n",
        "    proba = final_pipe.predict_proba(X_test)[:,1]\n",
        "    pred = (proba >= 0.5).astype(int)\n",
        "    print(\"Test ROC-AUC:\", roc_auc_score(y_test, proba))\n",
        "    print(\"Test Accuracy:\", accuracy_score(y_test, pred))\n",
        "    print(\"Test F1:\", f1_score(y_test, pred))\n",
        "else:\n",
        "    pred = final_pipe.predict(X_test)\n",
        "    print(\"Test corr(pred, y):\", np.corrcoef(pred, y_test)[0,1])\n"
      ]
    },
    {
      "cell_type": "markdown",
      "metadata": {},
      "source": [
        "## 6. Uncertainty via Bootstrap Confidence Intervals\n",
        "\n",
        "Use bootstrap resampling to estimate a confidence interval for the chosen metric.\n"
      ]
    },
    {
      "cell_type": "code",
      "execution_count": 7,
      "metadata": {},
      "outputs": [
        {
          "name": "stdout",
          "output_type": "stream",
          "text": [
            "Bootstrap ROC-AUC mean=0.653 CI=(0.574, 0.728)\n"
          ]
        }
      ],
      "source": [
        "def bootstrap_ci(metric_fn, y_true, y_score, n_boot=1000, alpha=0.05, seed=SEED):\n",
        "    rng = np.random.RandomState(seed)\n",
        "    scores = []\n",
        "    n = len(y_true)\n",
        "    for _ in range(n_boot):\n",
        "        idx = rng.randint(0, n, n)\n",
        "        scores.append(metric_fn(y_true[idx], y_score[idx]))\n",
        "    scores = np.asarray(scores)\n",
        "    low = np.quantile(scores, alpha/2)\n",
        "    high = np.quantile(scores, 1 - alpha/2)\n",
        "    return float(np.mean(scores)), float(low), float(high)\n",
        "\n",
        "if is_binary:\n",
        "    proba = final_pipe.predict_proba(X_test)[:,1]\n",
        "    y_true = y_test.to_numpy()\n",
        "    auc_mean, auc_lo, auc_hi = bootstrap_ci(roc_auc_score, y_true, proba)\n",
        "    print(f\"Bootstrap ROC-AUC mean={auc_mean:.3f} CI=({auc_lo:.3f}, {auc_hi:.3f})\")\n",
        "else:\n",
        "    # Example for regression: correlation CI\n",
        "    pred = final_pipe.predict(X_test)\n",
        "    def corr_metric(y, yhat):\n",
        "        return np.corrcoef(y, yhat)[0,1]\n",
        "    m, lo, hi = bootstrap_ci(corr_metric, y_test.to_numpy(), pred)\n",
        "    print(f\"Bootstrap corr mean={m:.3f} CI=({lo:.3f}, {hi:.3f})\")\n"
      ]
    },
    {
      "cell_type": "markdown",
      "metadata": {},
      "source": [
        "## 7. Explainability: Permutation Importance & Partial Dependence\n",
        "\n",
        "Permutation importance perturbs each feature and measures degradation in the metric.\n",
        "Partial dependence approximates the average effect of a feature on predictions.\n"
      ]
    },
    {
      "cell_type": "code",
      "execution_count": 8,
      "metadata": {},
      "outputs": [
        {
          "ename": "ValueError",
          "evalue": "dictionary update sequence element #0 has length 3; 2 is required",
          "output_type": "error",
          "traceback": [
            "\u001b[0;31m---------------------------------------------------------------------------\u001b[0m",
            "\u001b[0;31mValueError\u001b[0m                                Traceback (most recent call last)",
            "Cell \u001b[0;32mIn[8], line 14\u001b[0m\n\u001b[1;32m     12\u001b[0m final_pipe\u001b[38;5;241m.\u001b[39mfit(X_train, y_train)\n\u001b[1;32m     13\u001b[0m pre \u001b[38;5;241m=\u001b[39m final_pipe\u001b[38;5;241m.\u001b[39mnamed_steps[\u001b[38;5;124m'\u001b[39m\u001b[38;5;124mpreprocess\u001b[39m\u001b[38;5;124m'\u001b[39m]\n\u001b[0;32m---> 14\u001b[0m ohe \u001b[38;5;241m=\u001b[39m pre\u001b[38;5;241m.\u001b[39mnamed_transformers_[\u001b[38;5;124m'\u001b[39m\u001b[38;5;124mcat\u001b[39m\u001b[38;5;124m'\u001b[39m]\u001b[38;5;241m.\u001b[39mnamed_steps[\u001b[38;5;124m'\u001b[39m\u001b[38;5;124monehot\u001b[39m\u001b[38;5;124m'\u001b[39m] \u001b[38;5;28;01mif\u001b[39;00m \u001b[38;5;28mlen\u001b[39m(pre\u001b[38;5;241m.\u001b[39mtransformers_)\u001b[38;5;241m>\u001b[39m\u001b[38;5;241m1\u001b[39m \u001b[38;5;129;01mand\u001b[39;00m \u001b[38;5;124m'\u001b[39m\u001b[38;5;124mcat\u001b[39m\u001b[38;5;124m'\u001b[39m \u001b[38;5;129;01min\u001b[39;00m \u001b[38;5;28mdict\u001b[39m(pre\u001b[38;5;241m.\u001b[39mtransformers_)\u001b[38;5;241m.\u001b[39mkeys() \u001b[38;5;28;01melse\u001b[39;00m \u001b[38;5;28;01mNone\u001b[39;00m\n\u001b[1;32m     15\u001b[0m num_names \u001b[38;5;241m=\u001b[39m num_features\n\u001b[1;32m     16\u001b[0m cat_names \u001b[38;5;241m=\u001b[39m ohe\u001b[38;5;241m.\u001b[39mget_feature_names_out(cat_features)\u001b[38;5;241m.\u001b[39mtolist() \u001b[38;5;28;01mif\u001b[39;00m ohe \u001b[38;5;129;01mis\u001b[39;00m \u001b[38;5;129;01mnot\u001b[39;00m \u001b[38;5;28;01mNone\u001b[39;00m \u001b[38;5;129;01mand\u001b[39;00m \u001b[38;5;28mlen\u001b[39m(cat_features)\u001b[38;5;241m>\u001b[39m\u001b[38;5;241m0\u001b[39m \u001b[38;5;28;01melse\u001b[39;00m []\n",
            "\u001b[0;31mValueError\u001b[0m: dictionary update sequence element #0 has length 3; 2 is required"
          ]
        }
      ],
      "source": [
        "from sklearn.inspection import permutation_importance, PartialDependenceDisplay\n",
        "\n",
        "if is_binary:\n",
        "    scoring_fn = lambda model, X, y: roc_auc_score(y, model.predict_proba(X)[:,1])\n",
        "else:\n",
        "    scoring_fn = lambda model, X, y: np.corrcoef(model.predict(X), y)[0,1]\n",
        "\n",
        "# Permutation importance (on test set)\n",
        "r = permutation_importance(final_pipe, X_test, y_test, n_repeats=10, random_state=SEED)\n",
        "\n",
        "# Extract feature names post-transform\n",
        "final_pipe.fit(X_train, y_train)\n",
        "pre = final_pipe.named_steps['preprocess']\n",
        "ohe = pre.named_transformers_['cat'].named_steps['onehot'] if len(pre.transformers_)>1 and 'cat' in dict(pre.transformers_).keys() else None\n",
        "num_names = num_features\n",
        "cat_names = ohe.get_feature_names_out(cat_features).tolist() if ohe is not None and len(cat_features)>0 else []\n",
        "feat_names = num_names + cat_names\n",
        "\n",
        "importances = pd.Series(r.importances_mean, index=feat_names).sort_values(ascending=False)\n",
        "display(importances.head(15))\n",
        "\n",
        "plt.figure(figsize=(6,4))\n",
        "importances.head(15).iloc[::-1].plot(kind='barh')\n",
        "plt.title('Permutation Importance (top 15)')\n",
        "plt.tight_layout()\n",
        "plt.savefig(ARTIFACTS / 'permutation_importance_top15.png', dpi=150)\n",
        "plt.show()\n",
        "\n",
        "# Partial Dependence for top numeric features (if available)\n",
        "top_numeric = [f for f in importances.index if f in num_names][:2]\n",
        "if len(top_numeric) > 0:\n",
        "    fig = plt.figure(figsize=(5,4))\n",
        "    PartialDependenceDisplay.from_estimator(final_pipe, X_test, features=top_numeric[:2])\n",
        "    plt.tight_layout()\n",
        "    plt.savefig(ARTIFACTS / 'partial_dependence.png', dpi=150)\n",
        "    plt.show()\n",
        "else:\n",
        "    print(\"No numeric features available for partial dependence plots.\")\n"
      ]
    },
    {
      "cell_type": "markdown",
      "metadata": {},
      "source": [
        "## 8. Statistical Inference (Hypothesis Testing & Effect Sizes)\n",
        "\n",
        "Example: compare means between two groups using a t-test, and compute Cohen's d.\n",
        "Adjust feature/target names to match your dataset.\n"
      ]
    },
    {
      "cell_type": "code",
      "execution_count": null,
      "metadata": {},
      "outputs": [],
      "source": [
        "from scipy import stats\n",
        "\n",
        "# Example grouping by a (possibly encoded) categorical feature.\n",
        "group_feature = 'category' if 'category' in df.columns else None\n",
        "numeric_feature = 'feature_2' if 'feature_2' in df.columns else None\n",
        "\n",
        "if group_feature and numeric_feature:\n",
        "    subset = df[[group_feature, numeric_feature]].dropna()\n",
        "    groups = subset[group_feature].dropna().unique()\n",
        "    if len(groups) >= 2:\n",
        "        g1 = subset[subset[group_feature] == groups[0]][numeric_feature]\n",
        "        g2 = subset[subset[group_feature] == groups[1]][numeric_feature]\n",
        "        t, p = stats.ttest_ind(g1, g2, equal_var=False)\n",
        "        # Cohen's d\n",
        "        def cohens_d(a, b):\n",
        "            na, nb = len(a), len(b)\n",
        "            sa, sb = np.var(a, ddof=1), np.var(b, ddof=1)\n",
        "            s_pool = (((na-1)*sa + (nb-1)*sb) / (na+nb-2)) ** 0.5\n",
        "            return (np.mean(a) - np.mean(b)) / s_pool\n",
        "        d = cohens_d(g1.values, g2.values)\n",
        "        print(f\"t={t:.3f} p={p:.3g} Cohen's d={d:.3f}\")\n",
        "    else:\n",
        "        print(\"Need at least two groups for t-test.\")\n",
        "else:\n",
        "    print(\"Skipping t-test: adjust 'group_feature' and 'numeric_feature' for your dataset.\")\n"
      ]
    },
    {
      "cell_type": "markdown",
      "metadata": {},
      "source": [
        "## 9. Save Artifacts & Environment\n",
        "\n",
        "Export model, figures, metrics, and the Python environment for reproducibility.\n"
      ]
    },
    {
      "cell_type": "code",
      "execution_count": null,
      "metadata": {},
      "outputs": [],
      "source": [
        "import joblib\n",
        "\n",
        "# Save final model\n",
        "MODEL_PATH = ARTIFACTS / 'final_model.joblib'\n",
        "joblib.dump(final_pipe, MODEL_PATH)\n",
        "print(f\"Saved model to {MODEL_PATH}\")\n",
        "\n",
        "# Save metrics\n",
        "metrics = {}\n",
        "if is_binary:\n",
        "    proba = final_pipe.predict_proba(X_test)[:,1]\n",
        "    pred = (proba >= 0.5).astype(int)\n",
        "    metrics = {\n",
        "        'roc_auc': float(roc_auc_score(y_test, proba)),\n",
        "        'accuracy': float(accuracy_score(y_test, pred)),\n",
        "        'f1': float(f1_score(y_test, pred)),\n",
        "    }\n",
        "else:\n",
        "    pred = final_pipe.predict(X_test)\n",
        "    metrics = {'corr': float(np.corrcoef(pred, y_test)[0,1])}\n",
        "\n",
        "with open(ARTIFACTS / 'metrics.json', 'w') as f:\n",
        "    json.dump(metrics, f, indent=2)\n",
        "print(\"Saved metrics.json\")\n",
        "\n",
        "# Freeze environment\n",
        "ENV_FILE = ARTIFACTS / 'environment_freeze.txt'\n",
        "try:\n",
        "    import subprocess\n",
        "    out = subprocess.check_output([sys.executable, '-m', 'pip', 'freeze'], text=True)\n",
        "    ENV_FILE.write_text(out)\n",
        "    print(f\"Saved environment to {ENV_FILE}\")\n",
        "except Exception as e:\n",
        "    print(\"Could not freeze environment:\", e)\n"
      ]
    },
    {
      "cell_type": "markdown",
      "metadata": {},
      "source": [
        "## 10. Next Steps\n",
        "\n",
        "- Consider a formal experiment plan and preregistration.\n",
        "- Add domain-specific feature engineering and priors.\n",
        "- Evaluate model fairness and sensitivity analyses.\n",
        "- Containerize the environment (e.g., Docker) for full portability.\n",
        "- Promote this notebook to a script + CLI for batch/CI runs.\n"
      ]
    }
  ],
  "metadata": {
    "authors": [
      {
        "date": "2025-10-20T16:29:31.382588Z",
        "name": "Generated by ChatGPT"
      }
    ],
    "kernelspec": {
      "display_name": "base",
      "language": "python",
      "name": "python3"
    },
    "language_info": {
      "codemirror_mode": {
        "name": "ipython",
        "version": 3
      },
      "file_extension": ".py",
      "mimetype": "text/x-python",
      "name": "python",
      "nbconvert_exporter": "python",
      "pygments_lexer": "ipython3",
      "version": "3.12.2"
    }
  },
  "nbformat": 4,
  "nbformat_minor": 5
}
