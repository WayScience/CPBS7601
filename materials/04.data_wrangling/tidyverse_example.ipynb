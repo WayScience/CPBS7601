{
 "cells": [
  {
   "cell_type": "markdown",
   "id": "6471aef1-53ad-4018-8a74-a9bda24cd87c",
   "metadata": {},
   "source": [
    "# Tidyverse example - CPBS 7601\n",
    "\n",
    "Learn how to interact with tidy data using the `tidyverse` R ecosystem.\n",
    "\n",
    "https://www.tidyverse.org/\n",
    "\n",
    "The following notebook will perform the following steps:\n",
    "\n",
    "1. Import packages and setup options\n",
    "2. Load data\n",
    "3. Clean data\n",
    "4. Wrangle data\n",
    "5. Outputs\n",
    "\n",
    "## Step 1 - Import packages and setup options"
   ]
  },
  {
   "cell_type": "code",
   "execution_count": 1,
   "id": "2276e45e-c3a2-42ba-8384-840f9a8da948",
   "metadata": {
    "vscode": {
     "languageId": "r"
    }
   },
   "outputs": [],
   "source": [
    "suppressPackageStartupMessages(library(dplyr))\n",
    "suppressPackageStartupMessages(library(readr))\n",
    "suppressPackageStartupMessages(library(ggplot2))"
   ]
  },
  {
   "cell_type": "markdown",
   "id": "650e2b90-c2d3-47cc-a2da-c25497e7a413",
   "metadata": {},
   "source": [
    "### Prepare to load public dataset\n",
    "\n",
    "https://figshare.com/articles/dataset/Repurposing_Public_24Q2/25917643/1?file=46630978"
   ]
  },
  {
   "cell_type": "code",
   "execution_count": 2,
   "id": "0097f321",
   "metadata": {
    "vscode": {
     "languageId": "r"
    }
   },
   "outputs": [],
   "source": [
    "# Set constants and paths\n",
    "figshare_base_url <- \"https://figshare.com/ndownloader/files/\"\n",
    "\n",
    "drug_screen_file_id <- \"46630984\"\n",
    "drug_id_file_id <- \"46630981\"\n",
    "cellline_file_id <- \"46630978\"\n",
    "\n",
    "# Set output file paths\n",
    "output_directory <- \"results\"\n",
    "ttest_results_file <- file.path(output_directory, \"ttest_results_tidyverse.csv\")\n",
    "volcano_plot_file <- file.path(output_directory, \"volcano_plot_tidyverse.png\")"
   ]
  },
  {
   "cell_type": "markdown",
   "id": "4a228f35",
   "metadata": {},
   "source": [
    "## Step 2 - Load the data\n",
    "\n",
    "We are loading three different types of data:\n",
    "\n",
    "1. Drug screening viability data\n",
    "2. Drug identifier metadata\n",
    "3. Cell line identifier metadata\n",
    "\n",
    "We are accessing this from the [DepMap Drug Repurposing Hub 2024 2Q Data Release](https://figshare.com/articles/dataset/Repurposing_Public_24Q2/25917643/1?file=46630978)."
   ]
  },
  {
   "cell_type": "code",
   "execution_count": 3,
   "id": "88fe2bbb",
   "metadata": {
    "vscode": {
     "languageId": "r"
    }
   },
   "outputs": [
    {
     "name": "stderr",
     "output_type": "stream",
     "text": [
      "\u001b[1m\u001b[22mNew names:\n",
      "\u001b[36m•\u001b[39m `` -> `...1`\n"
     ]
    },
    {
     "name": "stdout",
     "output_type": "stream",
     "text": [
      "[1] 6790  920\n"
     ]
    },
    {
     "data": {
      "text/html": [
       "<table class=\"dataframe\">\n",
       "<caption>A tibble: 3 × 920</caption>\n",
       "<thead>\n",
       "\t<tr><th scope=col>...1</th><th scope=col>ACH-000001</th><th scope=col>ACH-000002</th><th scope=col>ACH-000004</th><th scope=col>ACH-000005</th><th scope=col>ACH-000006</th><th scope=col>ACH-000007</th><th scope=col>ACH-000008</th><th scope=col>ACH-000010</th><th scope=col>ACH-000011</th><th scope=col>⋯</th><th scope=col>ACH-002016</th><th scope=col>ACH-002022</th><th scope=col>ACH-002023</th><th scope=col>ACH-002025</th><th scope=col>ACH-002038</th><th scope=col>ACH-002039</th><th scope=col>ACH-002041</th><th scope=col>ACH-002042</th><th scope=col>ACH-002046</th><th scope=col>ACH-002048</th></tr>\n",
       "\t<tr><th scope=col>&lt;chr&gt;</th><th scope=col>&lt;dbl&gt;</th><th scope=col>&lt;dbl&gt;</th><th scope=col>&lt;dbl&gt;</th><th scope=col>&lt;dbl&gt;</th><th scope=col>&lt;dbl&gt;</th><th scope=col>&lt;dbl&gt;</th><th scope=col>&lt;dbl&gt;</th><th scope=col>&lt;dbl&gt;</th><th scope=col>&lt;dbl&gt;</th><th scope=col>⋯</th><th scope=col>&lt;dbl&gt;</th><th scope=col>&lt;dbl&gt;</th><th scope=col>&lt;dbl&gt;</th><th scope=col>&lt;dbl&gt;</th><th scope=col>&lt;dbl&gt;</th><th scope=col>&lt;dbl&gt;</th><th scope=col>&lt;dbl&gt;</th><th scope=col>&lt;dbl&gt;</th><th scope=col>&lt;dbl&gt;</th><th scope=col>&lt;dbl&gt;</th></tr>\n",
       "</thead>\n",
       "<tbody>\n",
       "\t<tr><td>BRD:BRD-A00047421-001-01-7</td><td>-1.20728146</td><td>-4.231563</td><td>-3.860672</td><td>-2.271411</td><td>0.2778328</td><td>-4.01128501</td><td>-0.6151046</td><td>-2.6253</td><td>-1.827661242</td><td>⋯</td><td>-1.975287</td><td>-2.403487</td><td>-0.4957408</td><td>-3.238121</td><td>1.223419</td><td>-2.314389</td><td>-2.805922</td><td>-2.332483</td><td>-3.441262</td><td>-1.254407</td></tr>\n",
       "\t<tr><td>BRD:BRD-A00055058-001-01-0</td><td> 0.51574339</td><td>       NA</td><td>       NA</td><td>       NA</td><td>       NA</td><td> 0.19687776</td><td> 0.3478209</td><td>     NA</td><td>-0.001030595</td><td>⋯</td><td>       NA</td><td>       NA</td><td>        NA</td><td>       NA</td><td>      NA</td><td>       NA</td><td>       NA</td><td>       NA</td><td>       NA</td><td>       NA</td></tr>\n",
       "\t<tr><td>BRD:BRD-A00077618-236-07-6</td><td>-0.01557664</td><td>       NA</td><td>       NA</td><td>       NA</td><td>       NA</td><td>-0.09573033</td><td> 0.3794804</td><td>     NA</td><td> 0.145346065</td><td>⋯</td><td>       NA</td><td>       NA</td><td>        NA</td><td>       NA</td><td>      NA</td><td>       NA</td><td>       NA</td><td>       NA</td><td>       NA</td><td>       NA</td></tr>\n",
       "</tbody>\n",
       "</table>\n"
      ],
      "text/latex": [
       "A tibble: 3 × 920\n",
       "\\begin{tabular}{lllllllllllllllllllll}\n",
       " ...1 & ACH-000001 & ACH-000002 & ACH-000004 & ACH-000005 & ACH-000006 & ACH-000007 & ACH-000008 & ACH-000010 & ACH-000011 & ⋯ & ACH-002016 & ACH-002022 & ACH-002023 & ACH-002025 & ACH-002038 & ACH-002039 & ACH-002041 & ACH-002042 & ACH-002046 & ACH-002048\\\\\n",
       " <chr> & <dbl> & <dbl> & <dbl> & <dbl> & <dbl> & <dbl> & <dbl> & <dbl> & <dbl> & ⋯ & <dbl> & <dbl> & <dbl> & <dbl> & <dbl> & <dbl> & <dbl> & <dbl> & <dbl> & <dbl>\\\\\n",
       "\\hline\n",
       "\t BRD:BRD-A00047421-001-01-7 & -1.20728146 & -4.231563 & -3.860672 & -2.271411 & 0.2778328 & -4.01128501 & -0.6151046 & -2.6253 & -1.827661242 & ⋯ & -1.975287 & -2.403487 & -0.4957408 & -3.238121 & 1.223419 & -2.314389 & -2.805922 & -2.332483 & -3.441262 & -1.254407\\\\\n",
       "\t BRD:BRD-A00055058-001-01-0 &  0.51574339 &        NA &        NA &        NA &        NA &  0.19687776 &  0.3478209 &      NA & -0.001030595 & ⋯ &        NA &        NA &         NA &        NA &       NA &        NA &        NA &        NA &        NA &        NA\\\\\n",
       "\t BRD:BRD-A00077618-236-07-6 & -0.01557664 &        NA &        NA &        NA &        NA & -0.09573033 &  0.3794804 &      NA &  0.145346065 & ⋯ &        NA &        NA &         NA &        NA &       NA &        NA &        NA &        NA &        NA &        NA\\\\\n",
       "\\end{tabular}\n"
      ],
      "text/markdown": [
       "\n",
       "A tibble: 3 × 920\n",
       "\n",
       "| ...1 &lt;chr&gt; | ACH-000001 &lt;dbl&gt; | ACH-000002 &lt;dbl&gt; | ACH-000004 &lt;dbl&gt; | ACH-000005 &lt;dbl&gt; | ACH-000006 &lt;dbl&gt; | ACH-000007 &lt;dbl&gt; | ACH-000008 &lt;dbl&gt; | ACH-000010 &lt;dbl&gt; | ACH-000011 &lt;dbl&gt; | ⋯ ⋯ | ACH-002016 &lt;dbl&gt; | ACH-002022 &lt;dbl&gt; | ACH-002023 &lt;dbl&gt; | ACH-002025 &lt;dbl&gt; | ACH-002038 &lt;dbl&gt; | ACH-002039 &lt;dbl&gt; | ACH-002041 &lt;dbl&gt; | ACH-002042 &lt;dbl&gt; | ACH-002046 &lt;dbl&gt; | ACH-002048 &lt;dbl&gt; |\n",
       "|---|---|---|---|---|---|---|---|---|---|---|---|---|---|---|---|---|---|---|---|---|\n",
       "| BRD:BRD-A00047421-001-01-7 | -1.20728146 | -4.231563 | -3.860672 | -2.271411 | 0.2778328 | -4.01128501 | -0.6151046 | -2.6253 | -1.827661242 | ⋯ | -1.975287 | -2.403487 | -0.4957408 | -3.238121 | 1.223419 | -2.314389 | -2.805922 | -2.332483 | -3.441262 | -1.254407 |\n",
       "| BRD:BRD-A00055058-001-01-0 |  0.51574339 |        NA |        NA |        NA |        NA |  0.19687776 |  0.3478209 |      NA | -0.001030595 | ⋯ |        NA |        NA |         NA |        NA |       NA |        NA |        NA |        NA |        NA |        NA |\n",
       "| BRD:BRD-A00077618-236-07-6 | -0.01557664 |        NA |        NA |        NA |        NA | -0.09573033 |  0.3794804 |      NA |  0.145346065 | ⋯ |        NA |        NA |         NA |        NA |       NA |        NA |        NA |        NA |        NA |        NA |\n",
       "\n"
      ],
      "text/plain": [
       "  ...1                       ACH-000001  ACH-000002 ACH-000004 ACH-000005\n",
       "1 BRD:BRD-A00047421-001-01-7 -1.20728146 -4.231563  -3.860672  -2.271411 \n",
       "2 BRD:BRD-A00055058-001-01-0  0.51574339        NA         NA         NA \n",
       "3 BRD:BRD-A00077618-236-07-6 -0.01557664        NA         NA         NA \n",
       "  ACH-000006 ACH-000007  ACH-000008 ACH-000010 ACH-000011   ⋯ ACH-002016\n",
       "1 0.2778328  -4.01128501 -0.6151046 -2.6253    -1.827661242 ⋯ -1.975287 \n",
       "2        NA   0.19687776  0.3478209      NA    -0.001030595 ⋯        NA \n",
       "3        NA  -0.09573033  0.3794804      NA     0.145346065 ⋯        NA \n",
       "  ACH-002022 ACH-002023 ACH-002025 ACH-002038 ACH-002039 ACH-002041 ACH-002042\n",
       "1 -2.403487  -0.4957408 -3.238121  1.223419   -2.314389  -2.805922  -2.332483 \n",
       "2        NA          NA        NA        NA          NA         NA         NA \n",
       "3        NA          NA        NA        NA          NA         NA         NA \n",
       "  ACH-002046 ACH-002048\n",
       "1 -3.441262  -1.254407 \n",
       "2        NA         NA \n",
       "3        NA         NA "
      ]
     },
     "metadata": {},
     "output_type": "display_data"
    }
   ],
   "source": [
    "# Load drug screen data\n",
    "drug_screen_results_df <- readr::read_csv(\n",
    "    paste0(figshare_base_url, drug_screen_file_id),\n",
    "    show_col_types = FALSE\n",
    "    )\n",
    "\n",
    "# Explore the data\n",
    "print(dim(drug_screen_results_df))\n",
    "head(drug_screen_results_df, 3)"
   ]
  },
  {
   "cell_type": "code",
   "execution_count": 4,
   "id": "e1f332a1",
   "metadata": {
    "vscode": {
     "languageId": "r"
    }
   },
   "outputs": [
    {
     "name": "stdout",
     "output_type": "stream",
     "text": [
      "[1] 6790    7\n"
     ]
    },
    {
     "data": {
      "text/html": [
       "<table class=\"dataframe\">\n",
       "<caption>A tibble: 3 × 7</caption>\n",
       "<thead>\n",
       "\t<tr><th scope=col>screen</th><th scope=col>dose</th><th scope=col>repurposing_target</th><th scope=col>MOA</th><th scope=col>IDs</th><th scope=col>Drug.Name</th><th scope=col>Synonyms</th></tr>\n",
       "\t<tr><th scope=col>&lt;chr&gt;</th><th scope=col>&lt;dbl&gt;</th><th scope=col>&lt;chr&gt;</th><th scope=col>&lt;chr&gt;</th><th scope=col>&lt;chr&gt;</th><th scope=col>&lt;chr&gt;</th><th scope=col>&lt;chr&gt;</th></tr>\n",
       "</thead>\n",
       "<tbody>\n",
       "\t<tr><td>REP.300</td><td>2.5</td><td>NA</td><td>NA</td><td>BRD:BRD-K00104122-001-01-9</td><td>MRTX1133   </td><td>MRTX1133   </td></tr>\n",
       "\t<tr><td>REP.300</td><td>2.5</td><td>NA</td><td>NA</td><td>BRD:BRD-K00104124-001-01-9</td><td>PEMIGATINIB</td><td>PEMIGATINIB</td></tr>\n",
       "\t<tr><td>REP.300</td><td>2.5</td><td>NA</td><td>NA</td><td>BRD:BRD-K00085355-001-01-9</td><td>TELAVANCIN </td><td>TELAVANCIN </td></tr>\n",
       "</tbody>\n",
       "</table>\n"
      ],
      "text/latex": [
       "A tibble: 3 × 7\n",
       "\\begin{tabular}{lllllll}\n",
       " screen & dose & repurposing\\_target & MOA & IDs & Drug.Name & Synonyms\\\\\n",
       " <chr> & <dbl> & <chr> & <chr> & <chr> & <chr> & <chr>\\\\\n",
       "\\hline\n",
       "\t REP.300 & 2.5 & NA & NA & BRD:BRD-K00104122-001-01-9 & MRTX1133    & MRTX1133   \\\\\n",
       "\t REP.300 & 2.5 & NA & NA & BRD:BRD-K00104124-001-01-9 & PEMIGATINIB & PEMIGATINIB\\\\\n",
       "\t REP.300 & 2.5 & NA & NA & BRD:BRD-K00085355-001-01-9 & TELAVANCIN  & TELAVANCIN \\\\\n",
       "\\end{tabular}\n"
      ],
      "text/markdown": [
       "\n",
       "A tibble: 3 × 7\n",
       "\n",
       "| screen &lt;chr&gt; | dose &lt;dbl&gt; | repurposing_target &lt;chr&gt; | MOA &lt;chr&gt; | IDs &lt;chr&gt; | Drug.Name &lt;chr&gt; | Synonyms &lt;chr&gt; |\n",
       "|---|---|---|---|---|---|---|\n",
       "| REP.300 | 2.5 | NA | NA | BRD:BRD-K00104122-001-01-9 | MRTX1133    | MRTX1133    |\n",
       "| REP.300 | 2.5 | NA | NA | BRD:BRD-K00104124-001-01-9 | PEMIGATINIB | PEMIGATINIB |\n",
       "| REP.300 | 2.5 | NA | NA | BRD:BRD-K00085355-001-01-9 | TELAVANCIN  | TELAVANCIN  |\n",
       "\n"
      ],
      "text/plain": [
       "  screen  dose repurposing_target MOA IDs                        Drug.Name  \n",
       "1 REP.300 2.5  NA                 NA  BRD:BRD-K00104122-001-01-9 MRTX1133   \n",
       "2 REP.300 2.5  NA                 NA  BRD:BRD-K00104124-001-01-9 PEMIGATINIB\n",
       "3 REP.300 2.5  NA                 NA  BRD:BRD-K00085355-001-01-9 TELAVANCIN \n",
       "  Synonyms   \n",
       "1 MRTX1133   \n",
       "2 PEMIGATINIB\n",
       "3 TELAVANCIN "
      ]
     },
     "metadata": {},
     "output_type": "display_data"
    }
   ],
   "source": [
    "# Load compound identifier metadata\n",
    "compound_id_df <- readr::read_csv(\n",
    "    paste0(figshare_base_url, drug_id_file_id),\n",
    "    col_types = readr::cols(\n",
    "        screen = readr::col_character(),\n",
    "        repurposing_target = readr::col_character(),\n",
    "        MOA = readr::col_character(),\n",
    "        IDs = readr::col_character(),\n",
    "        Drug.Name = readr::col_character(),\n",
    "        Synonyms = readr::col_character(),\n",
    "        dose = readr::col_double()\n",
    "        )\n",
    "    )\n",
    "\n",
    "# Explore the data\n",
    "print(dim(compound_id_df))\n",
    "head(compound_id_df, 3)"
   ]
  },
  {
   "cell_type": "code",
   "execution_count": 5,
   "id": "adcf7546",
   "metadata": {
    "vscode": {
     "languageId": "r"
    }
   },
   "outputs": [
    {
     "name": "stdout",
     "output_type": "stream",
     "text": [
      "[1] 1898    6\n"
     ]
    },
    {
     "data": {
      "text/html": [
       "<table class=\"dataframe\">\n",
       "<caption>A tibble: 3 × 6</caption>\n",
       "<thead>\n",
       "\t<tr><th scope=col>ccle_name</th><th scope=col>row_id</th><th scope=col>pool_id</th><th scope=col>culture</th><th scope=col>depmap_id</th><th scope=col>screen</th></tr>\n",
       "\t<tr><th scope=col>&lt;chr&gt;</th><th scope=col>&lt;chr&gt;</th><th scope=col>&lt;chr&gt;</th><th scope=col>&lt;chr&gt;</th><th scope=col>&lt;chr&gt;</th><th scope=col>&lt;chr&gt;</th></tr>\n",
       "</thead>\n",
       "<tbody>\n",
       "\t<tr><td>KYSE510_OESOPHAGUS</td><td>ACH-000824::P107::PR500A::REP1M</td><td>P107</td><td>PR500A</td><td>ACH-000824</td><td>REP1M</td></tr>\n",
       "\t<tr><td>HEC1A_ENDOMETRIUM </td><td>ACH-000954::P107::PR500A::REP1M</td><td>P107</td><td>PR500A</td><td>ACH-000954</td><td>REP1M</td></tr>\n",
       "\t<tr><td>MIAPACA2_PANCREAS </td><td>ACH-000601::P101::PR500A::REP1M</td><td>P101</td><td>PR500A</td><td>ACH-000601</td><td>REP1M</td></tr>\n",
       "</tbody>\n",
       "</table>\n"
      ],
      "text/latex": [
       "A tibble: 3 × 6\n",
       "\\begin{tabular}{llllll}\n",
       " ccle\\_name & row\\_id & pool\\_id & culture & depmap\\_id & screen\\\\\n",
       " <chr> & <chr> & <chr> & <chr> & <chr> & <chr>\\\\\n",
       "\\hline\n",
       "\t KYSE510\\_OESOPHAGUS & ACH-000824::P107::PR500A::REP1M & P107 & PR500A & ACH-000824 & REP1M\\\\\n",
       "\t HEC1A\\_ENDOMETRIUM  & ACH-000954::P107::PR500A::REP1M & P107 & PR500A & ACH-000954 & REP1M\\\\\n",
       "\t MIAPACA2\\_PANCREAS  & ACH-000601::P101::PR500A::REP1M & P101 & PR500A & ACH-000601 & REP1M\\\\\n",
       "\\end{tabular}\n"
      ],
      "text/markdown": [
       "\n",
       "A tibble: 3 × 6\n",
       "\n",
       "| ccle_name &lt;chr&gt; | row_id &lt;chr&gt; | pool_id &lt;chr&gt; | culture &lt;chr&gt; | depmap_id &lt;chr&gt; | screen &lt;chr&gt; |\n",
       "|---|---|---|---|---|---|\n",
       "| KYSE510_OESOPHAGUS | ACH-000824::P107::PR500A::REP1M | P107 | PR500A | ACH-000824 | REP1M |\n",
       "| HEC1A_ENDOMETRIUM  | ACH-000954::P107::PR500A::REP1M | P107 | PR500A | ACH-000954 | REP1M |\n",
       "| MIAPACA2_PANCREAS  | ACH-000601::P101::PR500A::REP1M | P101 | PR500A | ACH-000601 | REP1M |\n",
       "\n"
      ],
      "text/plain": [
       "  ccle_name          row_id                          pool_id culture depmap_id \n",
       "1 KYSE510_OESOPHAGUS ACH-000824::P107::PR500A::REP1M P107    PR500A  ACH-000824\n",
       "2 HEC1A_ENDOMETRIUM  ACH-000954::P107::PR500A::REP1M P107    PR500A  ACH-000954\n",
       "3 MIAPACA2_PANCREAS  ACH-000601::P101::PR500A::REP1M P101    PR500A  ACH-000601\n",
       "  screen\n",
       "1 REP1M \n",
       "2 REP1M \n",
       "3 REP1M "
      ]
     },
     "metadata": {},
     "output_type": "display_data"
    }
   ],
   "source": [
    "# Load cell line identifier metadata\n",
    "cellline_id_df <- readr::read_csv(\n",
    "    paste0(figshare_base_url, cellline_file_id),\n",
    "    col_types = readr::cols(\n",
    "        .default = readr::col_character()\n",
    "    )\n",
    ")\n",
    "\n",
    "# Explore the data\n",
    "print(dim(cellline_id_df))\n",
    "head(cellline_id_df, 3)"
   ]
  },
  {
   "cell_type": "markdown",
   "id": "948be185",
   "metadata": {},
   "source": [
    "## Step 3 - Clean data\n",
    "\n",
    "It's extremely rare for a dataset to not need any cleaning.\n",
    "\n",
    "Chances are that you will need to fix some column names, isolate certain rows and/or columns for your analysis, remove certain data, and perform other operations to get your data ready for analysis.\n",
    "\n",
    "Here, we perform a series of data cleaning operations.\n",
    "\n",
    "Note, that we would have done much of this data cleaning upon data loading, but, for instruction, we do it separately here."
   ]
  },
  {
   "cell_type": "code",
   "execution_count": 6,
   "id": "a1df7930",
   "metadata": {
    "vscode": {
     "languageId": "r"
    }
   },
   "outputs": [
    {
     "name": "stderr",
     "output_type": "stream",
     "text": [
      "Warning message:\n",
      "“\u001b[1m\u001b[22mExpected 2 pieces. Missing pieces filled with `NA` in 40 rows [451, 452, 453, 454, 455, 456, 457, 458, 459, 461, 666, 667, 668, 669, 670,\n",
      "671, 672, 673, 674, 675, ...].”\n"
     ]
    }
   ],
   "source": [
    "## Step 1 - Rename column 1\n",
    "drug_screen_results_df <- drug_screen_results_df %>%\n",
    "  dplyr::rename(\"BRD_ID\" = `...1`)\n",
    "\n",
    "## Step 2 - Select drugs with known MOA\n",
    "compounds_with_known_MOA <- compound_id_df %>%\n",
    "    dplyr::filter(!is.na(MOA)) %>%\n",
    "    dplyr::pull(IDs)\n",
    "\n",
    "# Step 3 - Filter drug screen data to only include compounds with known MOA\n",
    "drug_screen_results_df <- drug_screen_results_df %>%\n",
    "    dplyr::filter(BRD_ID %in% compounds_with_known_MOA)\n",
    "\n",
    "# Step 4 - Split cell line column to separate name from cancer type\n",
    "# and keep only certain columns\n",
    "cellline_id_df <- cellline_id_df %>%\n",
    "  tidyr::separate(\n",
    "    ccle_name,\n",
    "    into = c(\"cell_line\", \"cancer_type\"),\n",
    "    sep = \"_\",\n",
    "    extra = \"merge\"\n",
    "    ) %>%\n",
    "  dplyr::select(cell_line, cancer_type, depmap_id) %>%\n",
    "  dplyr::distinct()\n",
    "\n",
    "# Step 5 - Remove screen and dose columns in drug id data\n",
    "compound_id_df <- compound_id_df %>%\n",
    "  dplyr::select(-screen, -dose) %>%\n",
    "  dplyr::distinct()"
   ]
  },
  {
   "cell_type": "markdown",
   "id": "f9d94c64",
   "metadata": {},
   "source": [
    "## Step 4: Wrangle data\n",
    "\n",
    "Data are always in an inappropriate form for analysis.\n",
    "\n",
    "Wrangling data get data in the correct form so that you can apply statistics and machine learning."
   ]
  },
  {
   "cell_type": "code",
   "execution_count": 7,
   "id": "11a0f326",
   "metadata": {
    "vscode": {
     "languageId": "r"
    }
   },
   "outputs": [
    {
     "name": "stdout",
     "output_type": "stream",
     "text": [
      "[1] 6114   65\n"
     ]
    },
    {
     "data": {
      "text/html": [
       "<table class=\"dataframe\">\n",
       "<caption>A tibble: 3 × 65</caption>\n",
       "<thead>\n",
       "\t<tr><th scope=col>BRD_ID</th><th scope=col>ACH-000601</th><th scope=col>ACH-000361</th><th scope=col>ACH-001318</th><th scope=col>ACH-000332</th><th scope=col>ACH-000476</th><th scope=col>ACH-000178</th><th scope=col>ACH-000108</th><th scope=col>ACH-000164</th><th scope=col>ACH-000217</th><th scope=col>⋯</th><th scope=col>ACH-000475</th><th scope=col>ACH-000483</th><th scope=col>ACH-000739</th><th scope=col>ACH-000093</th><th scope=col>ACH-000213</th><th scope=col>ACH-000686</th><th scope=col>ACH-000094</th><th scope=col>ACH-002039</th><th scope=col>ACH-001379</th><th scope=col>ACH-001353</th></tr>\n",
       "\t<tr><th scope=col>&lt;chr&gt;</th><th scope=col>&lt;dbl&gt;</th><th scope=col>&lt;dbl&gt;</th><th scope=col>&lt;dbl&gt;</th><th scope=col>&lt;dbl&gt;</th><th scope=col>&lt;dbl&gt;</th><th scope=col>&lt;dbl&gt;</th><th scope=col>&lt;dbl&gt;</th><th scope=col>&lt;dbl&gt;</th><th scope=col>&lt;dbl&gt;</th><th scope=col>⋯</th><th scope=col>&lt;dbl&gt;</th><th scope=col>&lt;dbl&gt;</th><th scope=col>&lt;dbl&gt;</th><th scope=col>&lt;dbl&gt;</th><th scope=col>&lt;dbl&gt;</th><th scope=col>&lt;dbl&gt;</th><th scope=col>&lt;dbl&gt;</th><th scope=col>&lt;dbl&gt;</th><th scope=col>&lt;dbl&gt;</th><th scope=col>&lt;dbl&gt;</th></tr>\n",
       "</thead>\n",
       "<tbody>\n",
       "\t<tr><td>BRD:BRD-A00047421-001-01-7</td><td>-5.24751999</td><td>-2.7741971</td><td>-0.56173444</td><td>-0.17077916</td><td>-1.72221086</td><td>-0.48999488</td><td>-1.5273411</td><td>-4.4093687</td><td>-1.35976084</td><td>⋯</td><td>-1.8365823</td><td>-5.5716244</td><td>-2.0855530</td><td>-3.7141732</td><td>-3.722601653</td><td>       NA</td><td>-4.947453</td><td>-2.314389</td><td>-3.16745</td><td>-0.1525341</td></tr>\n",
       "\t<tr><td>BRD:BRD-A00055058-001-01-0</td><td> 0.07911695</td><td> 0.2129668</td><td>-0.03968317</td><td>-0.15955921</td><td> 0.21334215</td><td>-0.09334082</td><td>-0.2395801</td><td> 0.1457561</td><td> 0.09742468</td><td>⋯</td><td> 0.1694945</td><td>-0.1601217</td><td>-0.1476679</td><td>-0.1816811</td><td>-0.004214969</td><td>0.2927403</td><td>       NA</td><td>       NA</td><td>      NA</td><td>        NA</td></tr>\n",
       "\t<tr><td>BRD:BRD-A00077618-236-07-6</td><td> 0.18496495</td><td>-0.6041876</td><td>-0.01247979</td><td>-0.00460694</td><td>-0.08619303</td><td> 0.43270546</td><td> 0.2652632</td><td> 0.3893996</td><td> 0.54559098</td><td>⋯</td><td>-0.1631589</td><td>-0.2948655</td><td> 0.3984033</td><td>        NA</td><td> 0.306107006</td><td>       NA</td><td>       NA</td><td>       NA</td><td>      NA</td><td>        NA</td></tr>\n",
       "</tbody>\n",
       "</table>\n"
      ],
      "text/latex": [
       "A tibble: 3 × 65\n",
       "\\begin{tabular}{lllllllllllllllllllll}\n",
       " BRD\\_ID & ACH-000601 & ACH-000361 & ACH-001318 & ACH-000332 & ACH-000476 & ACH-000178 & ACH-000108 & ACH-000164 & ACH-000217 & ⋯ & ACH-000475 & ACH-000483 & ACH-000739 & ACH-000093 & ACH-000213 & ACH-000686 & ACH-000094 & ACH-002039 & ACH-001379 & ACH-001353\\\\\n",
       " <chr> & <dbl> & <dbl> & <dbl> & <dbl> & <dbl> & <dbl> & <dbl> & <dbl> & <dbl> & ⋯ & <dbl> & <dbl> & <dbl> & <dbl> & <dbl> & <dbl> & <dbl> & <dbl> & <dbl> & <dbl>\\\\\n",
       "\\hline\n",
       "\t BRD:BRD-A00047421-001-01-7 & -5.24751999 & -2.7741971 & -0.56173444 & -0.17077916 & -1.72221086 & -0.48999488 & -1.5273411 & -4.4093687 & -1.35976084 & ⋯ & -1.8365823 & -5.5716244 & -2.0855530 & -3.7141732 & -3.722601653 &        NA & -4.947453 & -2.314389 & -3.16745 & -0.1525341\\\\\n",
       "\t BRD:BRD-A00055058-001-01-0 &  0.07911695 &  0.2129668 & -0.03968317 & -0.15955921 &  0.21334215 & -0.09334082 & -0.2395801 &  0.1457561 &  0.09742468 & ⋯ &  0.1694945 & -0.1601217 & -0.1476679 & -0.1816811 & -0.004214969 & 0.2927403 &        NA &        NA &       NA &         NA\\\\\n",
       "\t BRD:BRD-A00077618-236-07-6 &  0.18496495 & -0.6041876 & -0.01247979 & -0.00460694 & -0.08619303 &  0.43270546 &  0.2652632 &  0.3893996 &  0.54559098 & ⋯ & -0.1631589 & -0.2948655 &  0.3984033 &         NA &  0.306107006 &        NA &        NA &        NA &       NA &         NA\\\\\n",
       "\\end{tabular}\n"
      ],
      "text/markdown": [
       "\n",
       "A tibble: 3 × 65\n",
       "\n",
       "| BRD_ID &lt;chr&gt; | ACH-000601 &lt;dbl&gt; | ACH-000361 &lt;dbl&gt; | ACH-001318 &lt;dbl&gt; | ACH-000332 &lt;dbl&gt; | ACH-000476 &lt;dbl&gt; | ACH-000178 &lt;dbl&gt; | ACH-000108 &lt;dbl&gt; | ACH-000164 &lt;dbl&gt; | ACH-000217 &lt;dbl&gt; | ⋯ ⋯ | ACH-000475 &lt;dbl&gt; | ACH-000483 &lt;dbl&gt; | ACH-000739 &lt;dbl&gt; | ACH-000093 &lt;dbl&gt; | ACH-000213 &lt;dbl&gt; | ACH-000686 &lt;dbl&gt; | ACH-000094 &lt;dbl&gt; | ACH-002039 &lt;dbl&gt; | ACH-001379 &lt;dbl&gt; | ACH-001353 &lt;dbl&gt; |\n",
       "|---|---|---|---|---|---|---|---|---|---|---|---|---|---|---|---|---|---|---|---|---|\n",
       "| BRD:BRD-A00047421-001-01-7 | -5.24751999 | -2.7741971 | -0.56173444 | -0.17077916 | -1.72221086 | -0.48999488 | -1.5273411 | -4.4093687 | -1.35976084 | ⋯ | -1.8365823 | -5.5716244 | -2.0855530 | -3.7141732 | -3.722601653 |        NA | -4.947453 | -2.314389 | -3.16745 | -0.1525341 |\n",
       "| BRD:BRD-A00055058-001-01-0 |  0.07911695 |  0.2129668 | -0.03968317 | -0.15955921 |  0.21334215 | -0.09334082 | -0.2395801 |  0.1457561 |  0.09742468 | ⋯ |  0.1694945 | -0.1601217 | -0.1476679 | -0.1816811 | -0.004214969 | 0.2927403 |        NA |        NA |       NA |         NA |\n",
       "| BRD:BRD-A00077618-236-07-6 |  0.18496495 | -0.6041876 | -0.01247979 | -0.00460694 | -0.08619303 |  0.43270546 |  0.2652632 |  0.3893996 |  0.54559098 | ⋯ | -0.1631589 | -0.2948655 |  0.3984033 |         NA |  0.306107006 |        NA |        NA |        NA |       NA |         NA |\n",
       "\n"
      ],
      "text/plain": [
       "  BRD_ID                     ACH-000601  ACH-000361 ACH-001318  ACH-000332 \n",
       "1 BRD:BRD-A00047421-001-01-7 -5.24751999 -2.7741971 -0.56173444 -0.17077916\n",
       "2 BRD:BRD-A00055058-001-01-0  0.07911695  0.2129668 -0.03968317 -0.15955921\n",
       "3 BRD:BRD-A00077618-236-07-6  0.18496495 -0.6041876 -0.01247979 -0.00460694\n",
       "  ACH-000476  ACH-000178  ACH-000108 ACH-000164 ACH-000217  ⋯ ACH-000475\n",
       "1 -1.72221086 -0.48999488 -1.5273411 -4.4093687 -1.35976084 ⋯ -1.8365823\n",
       "2  0.21334215 -0.09334082 -0.2395801  0.1457561  0.09742468 ⋯  0.1694945\n",
       "3 -0.08619303  0.43270546  0.2652632  0.3893996  0.54559098 ⋯ -0.1631589\n",
       "  ACH-000483 ACH-000739 ACH-000093 ACH-000213   ACH-000686 ACH-000094\n",
       "1 -5.5716244 -2.0855530 -3.7141732 -3.722601653        NA  -4.947453 \n",
       "2 -0.1601217 -0.1476679 -0.1816811 -0.004214969 0.2927403         NA \n",
       "3 -0.2948655  0.3984033         NA  0.306107006        NA         NA \n",
       "  ACH-002039 ACH-001379 ACH-001353\n",
       "1 -2.314389  -3.16745   -0.1525341\n",
       "2        NA        NA           NA\n",
       "3        NA        NA           NA"
      ]
     },
     "metadata": {},
     "output_type": "display_data"
    }
   ],
   "source": [
    "# Filter drug screen data to only include data from pancreatic and liver cancers\n",
    "select_cancer_types <- c(\"PANCREAS\", \"LIVER\")\n",
    "\n",
    "select_cancer_depmap_ids <- cellline_id_df %>%\n",
    "  dplyr::filter(cancer_type %in% !!select_cancer_types) %>%\n",
    "  dplyr::pull(depmap_id)\n",
    "\n",
    "drug_screen_results_df <- drug_screen_results_df %>%\n",
    "    dplyr::select(\"BRD_ID\", !!select_cancer_depmap_ids)\n",
    "\n",
    "print(dim(drug_screen_results_df))\n",
    "head(drug_screen_results_df, 3)"
   ]
  },
  {
   "cell_type": "code",
   "execution_count": 8,
   "id": "8942ba31",
   "metadata": {
    "vscode": {
     "languageId": "r"
    }
   },
   "outputs": [
    {
     "name": "stdout",
     "output_type": "stream",
     "text": [
      "[1] 391296      3\n"
     ]
    },
    {
     "data": {
      "text/html": [
       "<table class=\"dataframe\">\n",
       "<caption>A tibble: 3 × 3</caption>\n",
       "<thead>\n",
       "\t<tr><th scope=col>BRD_ID</th><th scope=col>ach_cell_line_id</th><th scope=col>response</th></tr>\n",
       "\t<tr><th scope=col>&lt;chr&gt;</th><th scope=col>&lt;chr&gt;</th><th scope=col>&lt;dbl&gt;</th></tr>\n",
       "</thead>\n",
       "<tbody>\n",
       "\t<tr><td>BRD:BRD-A00047421-001-01-7</td><td>ACH-000601</td><td>-5.2475200</td></tr>\n",
       "\t<tr><td>BRD:BRD-A00047421-001-01-7</td><td>ACH-000361</td><td>-2.7741971</td></tr>\n",
       "\t<tr><td>BRD:BRD-A00047421-001-01-7</td><td>ACH-001318</td><td>-0.5617344</td></tr>\n",
       "</tbody>\n",
       "</table>\n"
      ],
      "text/latex": [
       "A tibble: 3 × 3\n",
       "\\begin{tabular}{lll}\n",
       " BRD\\_ID & ach\\_cell\\_line\\_id & response\\\\\n",
       " <chr> & <chr> & <dbl>\\\\\n",
       "\\hline\n",
       "\t BRD:BRD-A00047421-001-01-7 & ACH-000601 & -5.2475200\\\\\n",
       "\t BRD:BRD-A00047421-001-01-7 & ACH-000361 & -2.7741971\\\\\n",
       "\t BRD:BRD-A00047421-001-01-7 & ACH-001318 & -0.5617344\\\\\n",
       "\\end{tabular}\n"
      ],
      "text/markdown": [
       "\n",
       "A tibble: 3 × 3\n",
       "\n",
       "| BRD_ID &lt;chr&gt; | ach_cell_line_id &lt;chr&gt; | response &lt;dbl&gt; |\n",
       "|---|---|---|\n",
       "| BRD:BRD-A00047421-001-01-7 | ACH-000601 | -5.2475200 |\n",
       "| BRD:BRD-A00047421-001-01-7 | ACH-000361 | -2.7741971 |\n",
       "| BRD:BRD-A00047421-001-01-7 | ACH-001318 | -0.5617344 |\n",
       "\n"
      ],
      "text/plain": [
       "  BRD_ID                     ach_cell_line_id response  \n",
       "1 BRD:BRD-A00047421-001-01-7 ACH-000601       -5.2475200\n",
       "2 BRD:BRD-A00047421-001-01-7 ACH-000361       -2.7741971\n",
       "3 BRD:BRD-A00047421-001-01-7 ACH-001318       -0.5617344"
      ]
     },
     "metadata": {},
     "output_type": "display_data"
    }
   ],
   "source": [
    "# Pivot wide data to long data\n",
    "drug_screen_results_long_df <- drug_screen_results_df %>%\n",
    "    tidyr::pivot_longer(\n",
    "        cols = !BRD_ID,\n",
    "        names_to = \"ach_cell_line_id\",\n",
    "        values_to = \"response\"\n",
    "        )\n",
    "\n",
    "print(dim(drug_screen_results_long_df))\n",
    "head(drug_screen_results_long_df, 3)"
   ]
  },
  {
   "cell_type": "code",
   "execution_count": 9,
   "id": "6d96c27e",
   "metadata": {
    "vscode": {
     "languageId": "r"
    }
   },
   "outputs": [
    {
     "name": "stdout",
     "output_type": "stream",
     "text": [
      "[1] 391296      9\n"
     ]
    },
    {
     "data": {
      "text/html": [
       "<table class=\"dataframe\">\n",
       "<caption>A tibble: 3 × 9</caption>\n",
       "<thead>\n",
       "\t<tr><th scope=col>BRD_ID</th><th scope=col>ach_cell_line_id</th><th scope=col>response</th><th scope=col>cell_line</th><th scope=col>cancer_type</th><th scope=col>repurposing_target</th><th scope=col>MOA</th><th scope=col>Drug.Name</th><th scope=col>Synonyms</th></tr>\n",
       "\t<tr><th scope=col>&lt;chr&gt;</th><th scope=col>&lt;chr&gt;</th><th scope=col>&lt;dbl&gt;</th><th scope=col>&lt;chr&gt;</th><th scope=col>&lt;chr&gt;</th><th scope=col>&lt;chr&gt;</th><th scope=col>&lt;chr&gt;</th><th scope=col>&lt;chr&gt;</th><th scope=col>&lt;chr&gt;</th></tr>\n",
       "</thead>\n",
       "<tbody>\n",
       "\t<tr><td>BRD:BRD-A00047421-001-01-7</td><td>ACH-000601</td><td>-5.2475200</td><td>MIAPACA2</td><td>PANCREAS</td><td>BRD4</td><td>BROMODOMAIN INHIBITOR</td><td>ARV-825</td><td>ARV-825</td></tr>\n",
       "\t<tr><td>BRD:BRD-A00047421-001-01-7</td><td>ACH-000361</td><td>-2.7741971</td><td>SKHEP1  </td><td>LIVER   </td><td>BRD4</td><td>BROMODOMAIN INHIBITOR</td><td>ARV-825</td><td>ARV-825</td></tr>\n",
       "\t<tr><td>BRD:BRD-A00047421-001-01-7</td><td>ACH-001318</td><td>-0.5617344</td><td>PLCPRF5 </td><td>LIVER   </td><td>BRD4</td><td>BROMODOMAIN INHIBITOR</td><td>ARV-825</td><td>ARV-825</td></tr>\n",
       "</tbody>\n",
       "</table>\n"
      ],
      "text/latex": [
       "A tibble: 3 × 9\n",
       "\\begin{tabular}{lllllllll}\n",
       " BRD\\_ID & ach\\_cell\\_line\\_id & response & cell\\_line & cancer\\_type & repurposing\\_target & MOA & Drug.Name & Synonyms\\\\\n",
       " <chr> & <chr> & <dbl> & <chr> & <chr> & <chr> & <chr> & <chr> & <chr>\\\\\n",
       "\\hline\n",
       "\t BRD:BRD-A00047421-001-01-7 & ACH-000601 & -5.2475200 & MIAPACA2 & PANCREAS & BRD4 & BROMODOMAIN INHIBITOR & ARV-825 & ARV-825\\\\\n",
       "\t BRD:BRD-A00047421-001-01-7 & ACH-000361 & -2.7741971 & SKHEP1   & LIVER    & BRD4 & BROMODOMAIN INHIBITOR & ARV-825 & ARV-825\\\\\n",
       "\t BRD:BRD-A00047421-001-01-7 & ACH-001318 & -0.5617344 & PLCPRF5  & LIVER    & BRD4 & BROMODOMAIN INHIBITOR & ARV-825 & ARV-825\\\\\n",
       "\\end{tabular}\n"
      ],
      "text/markdown": [
       "\n",
       "A tibble: 3 × 9\n",
       "\n",
       "| BRD_ID &lt;chr&gt; | ach_cell_line_id &lt;chr&gt; | response &lt;dbl&gt; | cell_line &lt;chr&gt; | cancer_type &lt;chr&gt; | repurposing_target &lt;chr&gt; | MOA &lt;chr&gt; | Drug.Name &lt;chr&gt; | Synonyms &lt;chr&gt; |\n",
       "|---|---|---|---|---|---|---|---|---|\n",
       "| BRD:BRD-A00047421-001-01-7 | ACH-000601 | -5.2475200 | MIAPACA2 | PANCREAS | BRD4 | BROMODOMAIN INHIBITOR | ARV-825 | ARV-825 |\n",
       "| BRD:BRD-A00047421-001-01-7 | ACH-000361 | -2.7741971 | SKHEP1   | LIVER    | BRD4 | BROMODOMAIN INHIBITOR | ARV-825 | ARV-825 |\n",
       "| BRD:BRD-A00047421-001-01-7 | ACH-001318 | -0.5617344 | PLCPRF5  | LIVER    | BRD4 | BROMODOMAIN INHIBITOR | ARV-825 | ARV-825 |\n",
       "\n"
      ],
      "text/plain": [
       "  BRD_ID                     ach_cell_line_id response   cell_line cancer_type\n",
       "1 BRD:BRD-A00047421-001-01-7 ACH-000601       -5.2475200 MIAPACA2  PANCREAS   \n",
       "2 BRD:BRD-A00047421-001-01-7 ACH-000361       -2.7741971 SKHEP1    LIVER      \n",
       "3 BRD:BRD-A00047421-001-01-7 ACH-001318       -0.5617344 PLCPRF5   LIVER      \n",
       "  repurposing_target MOA                   Drug.Name Synonyms\n",
       "1 BRD4               BROMODOMAIN INHIBITOR ARV-825   ARV-825 \n",
       "2 BRD4               BROMODOMAIN INHIBITOR ARV-825   ARV-825 \n",
       "3 BRD4               BROMODOMAIN INHIBITOR ARV-825   ARV-825 "
      ]
     },
     "metadata": {},
     "output_type": "display_data"
    }
   ],
   "source": [
    "# Join cell line metadata and drug identifiers\n",
    "drug_screen_results_long_df <- drug_screen_results_long_df %>%\n",
    "    dplyr::left_join(cellline_id_df, by = c(\"ach_cell_line_id\" = \"depmap_id\")) %>%\n",
    "    dplyr::left_join(compound_id_df, by = c(\"BRD_ID\" = \"IDs\")) %>%\n",
    "    dplyr::distinct()\n",
    "\n",
    "print(dim(drug_screen_results_long_df))\n",
    "head(drug_screen_results_long_df, 3)"
   ]
  },
  {
   "cell_type": "markdown",
   "id": "52698662",
   "metadata": {},
   "source": [
    "## Step 5 - Outputs\n",
    "\n",
    "We can now analyze the data in any number of ways.\n",
    "\n",
    "We show here one example:\n",
    "\n",
    "1. Using a t-test to identifying the most differentially effective MOAs between pancreatic and liver cancers.\n",
    "    - [A t-test will tell us if there is a significant difference between the means of two groups](https://www.datacamp.com/tutorial/t-tests-r-tutorial).\n",
    "2. Visualizing the results."
   ]
  },
  {
   "cell_type": "code",
   "execution_count": 10,
   "id": "908f61e0",
   "metadata": {
    "vscode": {
     "languageId": "r"
    }
   },
   "outputs": [
    {
     "data": {
      "text/html": [
       "1415"
      ],
      "text/latex": [
       "1415"
      ],
      "text/markdown": [
       "1415"
      ],
      "text/plain": [
       "[1] 1415"
      ]
     },
     "metadata": {},
     "output_type": "display_data"
    }
   ],
   "source": [
    "# Identify all unique MOAs\n",
    "unique_MOAs <- unique(drug_screen_results_long_df$MOA)\n",
    "\n",
    "length(unique_MOAs)"
   ]
  },
  {
   "cell_type": "code",
   "execution_count": 11,
   "id": "fb883e0c",
   "metadata": {
    "vscode": {
     "languageId": "r"
    }
   },
   "outputs": [
    {
     "name": "stdout",
     "output_type": "stream",
     "text": [
      "[1] 1415    3\n"
     ]
    },
    {
     "data": {
      "text/html": [
       "<table class=\"dataframe\">\n",
       "<caption>A data.frame: 5 × 3</caption>\n",
       "<thead>\n",
       "\t<tr><th></th><th scope=col>moa</th><th scope=col>test_statistic.t</th><th scope=col>p_value</th></tr>\n",
       "\t<tr><th></th><th scope=col>&lt;chr&gt;</th><th scope=col>&lt;dbl&gt;</th><th scope=col>&lt;dbl&gt;</th></tr>\n",
       "</thead>\n",
       "<tbody>\n",
       "\t<tr><th scope=row>HDAC INHIBITOR</th><td>HDAC INHIBITOR                              </td><td>7.113728</td><td>1.636907e-12</td></tr>\n",
       "\t<tr><th scope=row>MTOR INHIBITOR</th><td>MTOR INHIBITOR                              </td><td>4.773731</td><td>2.090123e-06</td></tr>\n",
       "\t<tr><th scope=row>DNA PROTEIN KINASE INHIBITOR, MTOR INHIBITOR</th><td>DNA PROTEIN KINASE INHIBITOR, MTOR INHIBITOR</td><td>4.518397</td><td>9.821550e-05</td></tr>\n",
       "\t<tr><th scope=row>MDM INHIBITOR</th><td>MDM INHIBITOR                               </td><td>3.906045</td><td>1.136579e-04</td></tr>\n",
       "\t<tr><th scope=row>TUBULIN POLYMERIZATION INHIBITOR</th><td>TUBULIN POLYMERIZATION INHIBITOR            </td><td>3.730575</td><td>2.006247e-04</td></tr>\n",
       "</tbody>\n",
       "</table>\n"
      ],
      "text/latex": [
       "A data.frame: 5 × 3\n",
       "\\begin{tabular}{r|lll}\n",
       "  & moa & test\\_statistic.t & p\\_value\\\\\n",
       "  & <chr> & <dbl> & <dbl>\\\\\n",
       "\\hline\n",
       "\tHDAC INHIBITOR & HDAC INHIBITOR                               & 7.113728 & 1.636907e-12\\\\\n",
       "\tMTOR INHIBITOR & MTOR INHIBITOR                               & 4.773731 & 2.090123e-06\\\\\n",
       "\tDNA PROTEIN KINASE INHIBITOR, MTOR INHIBITOR & DNA PROTEIN KINASE INHIBITOR, MTOR INHIBITOR & 4.518397 & 9.821550e-05\\\\\n",
       "\tMDM INHIBITOR & MDM INHIBITOR                                & 3.906045 & 1.136579e-04\\\\\n",
       "\tTUBULIN POLYMERIZATION INHIBITOR & TUBULIN POLYMERIZATION INHIBITOR             & 3.730575 & 2.006247e-04\\\\\n",
       "\\end{tabular}\n"
      ],
      "text/markdown": [
       "\n",
       "A data.frame: 5 × 3\n",
       "\n",
       "| <!--/--> | moa &lt;chr&gt; | test_statistic.t &lt;dbl&gt; | p_value &lt;dbl&gt; |\n",
       "|---|---|---|---|\n",
       "| HDAC INHIBITOR | HDAC INHIBITOR                               | 7.113728 | 1.636907e-12 |\n",
       "| MTOR INHIBITOR | MTOR INHIBITOR                               | 4.773731 | 2.090123e-06 |\n",
       "| DNA PROTEIN KINASE INHIBITOR, MTOR INHIBITOR | DNA PROTEIN KINASE INHIBITOR, MTOR INHIBITOR | 4.518397 | 9.821550e-05 |\n",
       "| MDM INHIBITOR | MDM INHIBITOR                                | 3.906045 | 1.136579e-04 |\n",
       "| TUBULIN POLYMERIZATION INHIBITOR | TUBULIN POLYMERIZATION INHIBITOR             | 3.730575 | 2.006247e-04 |\n",
       "\n"
      ],
      "text/plain": [
       "                                             moa                                         \n",
       "HDAC INHIBITOR                               HDAC INHIBITOR                              \n",
       "MTOR INHIBITOR                               MTOR INHIBITOR                              \n",
       "DNA PROTEIN KINASE INHIBITOR, MTOR INHIBITOR DNA PROTEIN KINASE INHIBITOR, MTOR INHIBITOR\n",
       "MDM INHIBITOR                                MDM INHIBITOR                               \n",
       "TUBULIN POLYMERIZATION INHIBITOR             TUBULIN POLYMERIZATION INHIBITOR            \n",
       "                                             test_statistic.t p_value     \n",
       "HDAC INHIBITOR                               7.113728         1.636907e-12\n",
       "MTOR INHIBITOR                               4.773731         2.090123e-06\n",
       "DNA PROTEIN KINASE INHIBITOR, MTOR INHIBITOR 4.518397         9.821550e-05\n",
       "MDM INHIBITOR                                3.906045         1.136579e-04\n",
       "TUBULIN POLYMERIZATION INHIBITOR             3.730575         2.006247e-04"
      ]
     },
     "metadata": {},
     "output_type": "display_data"
    }
   ],
   "source": [
    "# Calculate t-test for each MOA across pancreatic and liver cancers\n",
    "ttest_results <- list()\n",
    "for (moa in unique_MOAs) {\n",
    "    # Isolate specific moa\n",
    "    specific_moa_drug_screen_results_long_df <- drug_screen_results_long_df %>%\n",
    "        dplyr::filter(MOA == !!moa)\n",
    "    \n",
    "    # Collect specific responses according to cancer type\n",
    "    pancreatic_response <- specific_moa_drug_screen_results_long_df %>%\n",
    "        dplyr::filter(cancer_type == \"PANCREAS\") %>%\n",
    "        dplyr::pull(response)\n",
    "\n",
    "    liver_response <- specific_moa_drug_screen_results_long_df %>%\n",
    "        dplyr::filter(cancer_type == \"LIVER\") %>%\n",
    "        dplyr::pull(response)\n",
    "\n",
    "    # Calculate t-test\n",
    "    t_test_result <- t.test(\n",
    "        pancreatic_response,\n",
    "        liver_response,\n",
    "        alternative = \"two.sided\",\n",
    "        var.equal = FALSE\n",
    "        )\n",
    "\n",
    "    # Store results\n",
    "    ttest_results[[moa]] <- c(\n",
    "        \"moa\" = moa,\n",
    "        \"test_statistic\" = t_test_result$statistic,\n",
    "        \"p_value\" = t_test_result$p.value\n",
    "        )\n",
    "}\n",
    "\n",
    "# Combine results into a data frame\n",
    "ttest_results_df <- data.frame(do.call(rbind, ttest_results)) %>%\n",
    "    dplyr::arrange(desc(test_statistic.t))\n",
    "\n",
    "# Convert column types\n",
    "ttest_results_df$test_statistic.t <- as.numeric(ttest_results_df$test_statistic.t)\n",
    "ttest_results_df$p_value <- as.numeric(ttest_results_df$p_value)\n",
    "\n",
    "# Output results\n",
    "ttest_results_df %>% readr::write_csv(ttest_results_file)\n",
    "\n",
    "print(dim(ttest_results_df))\n",
    "head(ttest_results_df, 5)"
   ]
  },
  {
   "cell_type": "code",
   "execution_count": 12,
   "id": "7a474276",
   "metadata": {
    "vscode": {
     "languageId": "r"
    }
   },
   "outputs": [
    {
     "data": {
      "image/png": "[encoded data removed]",
      "text/plain": [
       "plot without title"
      ]
     },
     "metadata": {
      "image/png": {
       "height": 420,
       "width": 420
      }
     },
     "output_type": "display_data"
    }
   ],
   "source": [
    "# Visualize results\n",
    "bonferroni_adjusted_value <- 0.05 / dim(ttest_results_df)[1]\n",
    "\n",
    "volcano_gg <- (\n",
    "    ggplot(\n",
    "        data = ttest_results_df,\n",
    "        aes(x = test_statistic.t, y = -log10(p_value))\n",
    "        )\n",
    "    + geom_point(size = 0.5)\n",
    "    + geom_hline(\n",
    "        yintercept = -log10(bonferroni_adjusted_value),\n",
    "        linetype = \"dashed\",\n",
    "        color = \"red\"\n",
    "        )\n",
    "    + labs(x = \"T statistic\", y = \"-log10(p-value)\")\n",
    "    + theme_bw()\n",
    "    + theme(\n",
    "        axis.title = element_text(size = 14),\n",
    "        axis.text = element_text(size = 12)\n",
    "        )\n",
    ")\n",
    "\n",
    "# Save plot\n",
    "ggsave(volcano_plot_file, dpi = 400, width = 4, height = 4)\n",
    "\n",
    "volcano_gg"
   ]
  }
 ],
 "metadata": {
  "kernelspec": {
   "display_name": "R [conda env:cpbs7601] *",
   "language": "R",
   "name": "conda-env-cpbs7601-r"
  },
  "language_info": {
   "codemirror_mode": "r",
   "file_extension": ".r",
   "mimetype": "text/x-r-source",
   "name": "R",
   "pygments_lexer": "r",
   "version": "4.3.3"
  }
 },
 "nbformat": 4,
 "nbformat_minor": 5
}
